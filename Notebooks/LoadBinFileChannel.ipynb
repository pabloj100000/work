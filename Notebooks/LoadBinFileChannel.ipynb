{
 "metadata": {
  "name": "LoadBinFileChannel"
 },
 "nbformat": 3,
 "nbformat_minor": 0,
 "worksheets": [
  {
   "cells": [
    {
     "cell_type": "code",
     "collapsed": false,
     "input": [
      "filename = '030713a.bin'"
     ],
     "language": "python",
     "metadata": {},
     "outputs": [],
     "prompt_number": 3
    },
    {
     "cell_type": "code",
     "collapsed": false,
     "input": [
      "f = open(filename)"
     ],
     "language": "python",
     "metadata": {},
     "outputs": [],
     "prompt_number": 40
    },
    {
     "cell_type": "code",
     "collapsed": false,
     "input": [
      "f.seek(0)"
     ],
     "language": "python",
     "metadata": {},
     "outputs": [],
     "prompt_number": 13
    },
    {
     "cell_type": "code",
     "collapsed": false,
     "input": [
      "f.read(1)"
     ],
     "language": "python",
     "metadata": {},
     "outputs": [
      {
       "output_type": "pyout",
       "prompt_number": 14,
       "text": [
        "'\\x00'"
       ]
      }
     ],
     "prompt_number": 14
    },
    {
     "cell_type": "code",
     "collapsed": false,
     "input": [
      "f.close()"
     ],
     "language": "python",
     "metadata": {},
     "outputs": [],
     "prompt_number": 15
    },
    {
     "cell_type": "code",
     "collapsed": false,
     "input": [
      "def getRecordingHeader(filename):\n",
      "    from numpy import fromfile\n",
      "    f = open(filename, 'rb')\n",
      "\t#FBinRead /big endian /unsigned 32 bit headerSize\n",
      "\t#FBinRead /big endian, signed 16 bit refnum,type\n",
      "\t#FBinRead /b=2, signed 16 bit, version\n",
      "\t#FBinRead /b=2, unsigned 32 bit refnum,nscans\n",
      "\t#FBinRead /b=2 unsigned 32 bit refnum,numberOfChannels\n",
      "    header = {}\n",
      "    header['headerSize'] = fromfile(f, '>u4', 1)[0]\n",
      "    header['type'] = fromfile(f, '>i2', 1)[0] # 32 bit big endian unsigned\n",
      "    header['version'] = fromfile(f, '>i2', 1)[0]\n",
      "    header['nscans'] = fromfile(f, '>u4', 1)[0]\n",
      "    header['numberOfChannels'] = fromfile(f, '>u4', 1)[0]\n",
      "    header['whichChan'] = fromfile(f, '>i2', 1)[0]\n",
      "    header['scanRate'] = fromfile(f, '>f4',1)[0]\n",
      "    header['blockSize'] = fromfile(f, '>u4', 1)[0]\n",
      "    header['scaleMult'] = fromfile(f, '>f4',1)[0]\n",
      "    header['scaleOff'] = fromfile(f, '>f4', 1)[0]\n",
      "    header['dateSize'] = fromfile(f, '>i4', 1)[0]\n",
      "    header['dateStr'] = fromfile(f, 'a'+str(header['dateSize']), 1)[0]\n",
      "    header['timeSize'] = fromfile(f, '>i4', 1)[0]\n",
      "    header['timeStr'] = fromfile(f, 'a'+str(header['timeSize']), 1)[0]\n",
      "    header['userSize'] = fromfile(f, '>i4', 1)[0]\n",
      "    header['userStr'] = fromfile(f, 'a'+str(header['userSize']), 1)[0]\n",
      "    f.close\n",
      "    return header\n",
      "    "
     ],
     "language": "python",
     "metadata": {},
     "outputs": [],
     "prompt_number": 6
    },
    {
     "cell_type": "code",
     "collapsed": false,
     "input": [
      "'''f =2:\tSigned 16-bit word; two bytes.\n",
      "\tf =3:\tSigned 32-bit word; four bytes.\n",
      "'''\n",
      "getRecordingHeader(filename)"
     ],
     "language": "python",
     "metadata": {},
     "outputs": [
      {
       "output_type": "pyout",
       "prompt_number": 237,
       "text": [
        "{'blockSize': 20000,\n",
        " 'dateSize': 17,\n",
        " 'dateStr': 'Thu, Mar 07, 2013',\n",
        " 'headerSize': 90,\n",
        " 'nscans': 16500000,\n",
        " 'numberOfChannels': 1,\n",
        " 'scaleMult': 0.00015258789,\n",
        " 'scaleOff': -5.0,\n",
        " 'scanRate': 10000.0,\n",
        " 'timeSize': 11,\n",
        " 'timeStr': '10:44:12 AM',\n",
        " 'type': 2,\n",
        " 'userSize': 16,\n",
        " 'userStr': 'recorded in d239',\n",
        " 'version': 1,\n",
        " 'whichChan': 0}"
       ]
      }
     ],
     "prompt_number": 237
    },
    {
     "cell_type": "code",
     "collapsed": false,
     "input": [
      "def getChannel(chan,length, filename):\n",
      "    '''\n",
      "    load a channel form an igor generated binary experimental file\n",
      "\n",
      "    Inputs\n",
      "    ------\n",
      "        chan: channel number to be loaded\n",
      "                0, photodiode\n",
      "        length: amount of time to load\n",
      "                for the time being, length gets ceil to a an integer number of blocks\n",
      "        filename: the file to load from\n",
      "    \n",
      "    output\n",
      "    ------\n",
      "        channel: 1D ndarray\n",
      "    '''\n",
      "    from numpy import fromfile\n",
      "    from numpy import zeros\n",
      "    \n",
      "    header = getRecordingHeader(filename)\n",
      "    blockTime = header['blockSize']/header['scanRate']\n",
      "    numBlocks = int(ceil(length/blockTime))\n",
      "    totTime = header['nscans']/header['scanRate']\n",
      "    numBlocks = min(floor(totTime/blockTime),numBlocks)\n",
      "    outputLength = int(length*header['scanRate'])\n",
      "    blockSize = header['blockSize']\n",
      "    print blockTime, numBlocks, totTime, numBlocks, outputLength\n",
      "\t\n",
      "    scaleMult = float(header['scaleMult'])\n",
      "    scaleOff = float(header['scaleOff'])\n",
      "    \n",
      "    # Generate output, an ndarray of blockTime  = []\n",
      "    output = np.zeros(outputLength)\n",
      "    \n",
      "    f = open(filename)\n",
      "    for i in range(numBlocks):\n",
      "        f.seek(header['headerSize']+i*blockSize*header['numberOfChannels']*2+chan*blockSize*2)\n",
      "        output[i*blockSize:(i+1)*blockSize] = fromfile(f, '>i4', blockSize)\n",
      "        print type(output)\n",
      "    return output\n"
     ],
     "language": "python",
     "metadata": {},
     "outputs": [],
     "prompt_number": 4
    },
    {
     "cell_type": "code",
     "collapsed": false,
     "input": [
      "pd = getChannel(0, 10, filename)"
     ],
     "language": "python",
     "metadata": {},
     "outputs": [
      {
       "ename": "NameError",
       "evalue": "global name 'ceil' is not defined",
       "output_type": "pyerr",
       "traceback": [
        "\u001b[0;31m---------------------------------------------------------------------------\u001b[0m\n\u001b[0;31mNameError\u001b[0m                                 Traceback (most recent call last)",
        "\u001b[0;32m<ipython-input-7-4a5cc6fca585>\u001b[0m in \u001b[0;36m<module>\u001b[0;34m()\u001b[0m\n\u001b[0;32m----> 1\u001b[0;31m \u001b[0mpd\u001b[0m \u001b[0;34m=\u001b[0m \u001b[0mgetChannel\u001b[0m\u001b[0;34m(\u001b[0m\u001b[0;36m0\u001b[0m\u001b[0;34m,\u001b[0m \u001b[0;36m10\u001b[0m\u001b[0;34m,\u001b[0m \u001b[0mfilename\u001b[0m\u001b[0;34m)\u001b[0m\u001b[0;34m\u001b[0m\u001b[0m\n\u001b[0m",
        "\u001b[0;32m<ipython-input-4-d4f348acbaf1>\u001b[0m in \u001b[0;36mgetChannel\u001b[0;34m(chan, length, filename)\u001b[0m\n\u001b[1;32m     20\u001b[0m     \u001b[0mheader\u001b[0m \u001b[0;34m=\u001b[0m \u001b[0mgetRecordingHeader\u001b[0m\u001b[0;34m(\u001b[0m\u001b[0mfilename\u001b[0m\u001b[0;34m)\u001b[0m\u001b[0;34m\u001b[0m\u001b[0m\n\u001b[1;32m     21\u001b[0m     \u001b[0mblockTime\u001b[0m \u001b[0;34m=\u001b[0m \u001b[0mheader\u001b[0m\u001b[0;34m[\u001b[0m\u001b[0;34m'blockSize'\u001b[0m\u001b[0;34m]\u001b[0m\u001b[0;34m/\u001b[0m\u001b[0mheader\u001b[0m\u001b[0;34m[\u001b[0m\u001b[0;34m'scanRate'\u001b[0m\u001b[0;34m]\u001b[0m\u001b[0;34m\u001b[0m\u001b[0m\n\u001b[0;32m---> 22\u001b[0;31m     \u001b[0mnumBlocks\u001b[0m \u001b[0;34m=\u001b[0m \u001b[0mint\u001b[0m\u001b[0;34m(\u001b[0m\u001b[0mceil\u001b[0m\u001b[0;34m(\u001b[0m\u001b[0mlength\u001b[0m\u001b[0;34m/\u001b[0m\u001b[0mblockTime\u001b[0m\u001b[0;34m)\u001b[0m\u001b[0;34m)\u001b[0m\u001b[0;34m\u001b[0m\u001b[0m\n\u001b[0m\u001b[1;32m     23\u001b[0m     \u001b[0mtotTime\u001b[0m \u001b[0;34m=\u001b[0m \u001b[0mheader\u001b[0m\u001b[0;34m[\u001b[0m\u001b[0;34m'nscans'\u001b[0m\u001b[0;34m]\u001b[0m\u001b[0;34m/\u001b[0m\u001b[0mheader\u001b[0m\u001b[0;34m[\u001b[0m\u001b[0;34m'scanRate'\u001b[0m\u001b[0;34m]\u001b[0m\u001b[0;34m\u001b[0m\u001b[0m\n\u001b[1;32m     24\u001b[0m     \u001b[0mnumBlocks\u001b[0m \u001b[0;34m=\u001b[0m \u001b[0mint\u001b[0m\u001b[0;34m(\u001b[0m\u001b[0mtotTime\u001b[0m\u001b[0;34m/\u001b[0m\u001b[0mblockTime\u001b[0m\u001b[0;34m)\u001b[0m\u001b[0;34m\u001b[0m\u001b[0m\n",
        "\u001b[0;31mNameError\u001b[0m: global name 'ceil' is not defined"
       ]
      }
     ],
     "prompt_number": 7
    },
    {
     "cell_type": "code",
     "collapsed": false,
     "input": [
      "def getChannel(chan,length, filename):\n",
      "    '''\n",
      "    load a channel form an igor generated binary experimental file\n",
      "\n",
      "    Inputs\n",
      "    ------\n",
      "        chan: channel number to be loaded\n",
      "                0, photodiode\n",
      "        length: amount of time to load\n",
      "                for the time being, length gets ceil to a an integer number of blocks\n",
      "        filename: the file to load from\n",
      "    \n",
      "    output\n",
      "    ------\n",
      "        channel: 1D ndarray\n",
      "    '''\n",
      "    from numpy import fromfile\n",
      "    from numpy import zeros\n",
      "    \n",
      "    header = getRecordingHeader(filename)\n",
      "    blockTime = header['blockSize']/header['scanRate']\n",
      "    numBlocks = int(ceil(length/blockTime))\n",
      "    totTime = header['nscans']/header['scanRate']\n",
      "    numBlocks = min(floor(totTime/blockTime),numBlocks)\n",
      "    outputLength = int(length*header['scanRate'])\n",
      "    blockSize = header['blockSize']\n",
      "    print blockTime, numBlocks, totTime, numBlocks, outputLength\n",
      "\t\n",
      "    scaleMult = float(header['scaleMult'])\n",
      "    scaleOff = float(header['scaleOff'])\n",
      "    \n",
      "    # Generate output, an ndarray of blockTime  = []\n",
      "    output = np.zeros(outputLength)\n",
      "    \n",
      "    f = open(filename)\n",
      "    for i in range(numBlocks):\n",
      "        f.seek(header['headerSize']+i*blockSize*header['numberOfChannels']*2+chan*blockSize*2)\n",
      "        output[i*blockSize:(i+1)*blockSize] = fromfile(f, '>i4', blockSize)\n",
      "        print type(output)\n",
      "    return output\n"
     ],
     "language": "python",
     "metadata": {},
     "outputs": [
      {
       "output_type": "stream",
       "stream": "stdout",
       "text": [
        "0\n"
       ]
      }
     ],
     "prompt_number": 9
    },
    {
     "cell_type": "code",
     "collapsed": false,
     "input": [],
     "language": "python",
     "metadata": {},
     "outputs": []
    }
   ],
   "metadata": {}
  }
 ]
}
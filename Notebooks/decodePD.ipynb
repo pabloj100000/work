{
 "metadata": {
  "name": "decodePD"
 },
 "nbformat": 3,
 "nbformat_minor": 0,
 "worksheets": [
  {
   "cells": [
    {
     "cell_type": "code",
     "collapsed": false,
     "input": [
      "import os\n",
      "os.chdir('/Users/jadz/Documents/Scripts/Python/')\n",
      "!pwd"
     ],
     "language": "python",
     "metadata": {},
     "outputs": [
      {
       "output_type": "stream",
       "stream": "stdout",
       "text": [
        "/Users/jadz/Documents/Scripts/Python\r\n"
       ]
      }
     ],
     "prompt_number": 1
    },
    {
     "cell_type": "code",
     "collapsed": false,
     "input": [
      "import meaRecording\n",
      "import numpy as np\n",
      "import matplotlib as plt\n",
      "%pylab inline"
     ],
     "language": "python",
     "metadata": {},
     "outputs": [
      {
       "output_type": "stream",
       "stream": "stdout",
       "text": [
        "\n",
        "Welcome to pylab, a matplotlib-based Python environment [backend: module://IPython.zmq.pylab.backend_inline].\n",
        "For more information, type 'help(pylab)'.\n"
       ]
      }
     ],
     "prompt_number": 2
    },
    {
     "cell_type": "code",
     "collapsed": false,
     "input": [
      "def analysePD(wildcard, whiteThreshold=.8):\n",
      "    import numpy as np\n",
      "\n",
      "    # generate a ndarray with all the scans corresonding to a white frame and a list with the average number of scans per frame per file\n",
      "    # \n",
      "    whiteFrameScans, scansperframe, scanRate = loadAllWhiteFrames(wildcard, whiteThreshold)\n",
      "    \n",
      "    # At this point I have finished loading PD from all files and extracting all possible white frames. \n",
      "    # Remove those white frames that are of no interest, that where detected because we are probably not flipping stimulus ever frame\n",
      "    whiteFrameScans = keepOnlyFirstWhite(whiteFrameScans, scansperframe)    # this is a list\n",
      "    \n",
      "    # Make a list with those items that correspond to the 1st white frame for a given experiment.\n",
      "    # next line is somewhat complicated, to understand it. If needed right in a piece of paper the sequence of scans corresponding to whiteFrames\n",
      "    # then we want to compute the distance between those consecutive scans but at the end, we care about the change in distance, that\n",
      "    # is why we have to compare 3 consecutive whiteFrameScans. Independently of the computation, we always want to return the 1st element in the list\n",
      "    firstWhiteIndex = [item for item in range(len(whiteFrameScans)-1) if whiteFrameScans[item+1]+whiteFrameScans[item-1]-2*whiteFrameScans[item]>scansperframe/2 or item==0]\n",
      "    \n",
      "    # Make a list with indexes into lastWhiteFrames per stim. This list, as firstWhiteIndex does not hold times not scans but indexes into whiteFrameScans\n",
      "    lastWhiteIndex = [firstWhiteIndex[item]-1 for item in range(1,len(firstWhiteIndex))]\n",
      "    lastWhiteIndex.append(len(whiteFrameScans)-1)\n",
      "    \n",
      "\n",
      "    print len(firstWhiteIndex), len(lastWhiteIndex)\n",
      "    print firstWhiteIndex\n",
      "    print lastWhiteIndex\n",
      "\n",
      "    # make the following lists:\n",
      "    # Time of 1st white in a given experiment. \n",
      "    startTimes = [whiteFrameScans[index]/float(scanRate) for index in firstWhiteIndex]\n",
      "    # period between whiteFrames of a given stimulus\n",
      "    period = [(whiteFrameScans[index+1] - whiteFrameScans[index])/float(scanRate) for index in firstWhiteIndex]\n",
      "    # end of the experiment\n",
      "    endTimes = [whiteFrameScans[index]/float(scanRate)+period[i] for i, index in enumerate(lastWhiteIndex)]\n",
      "\n",
      "    #                st whites and another with their corresponding periods\n",
      "    return startTimes, endTimes, period"
     ],
     "language": "python",
     "metadata": {},
     "outputs": [],
     "prompt_number": 140
    },
    {
     "cell_type": "code",
     "collapsed": false,
     "input": [
      "startT, endT, period = analysePD(\"*.bin\")"
     ],
     "language": "python",
     "metadata": {},
     "outputs": [
      {
       "output_type": "stream",
       "stream": "stdout",
       "text": [
        "Working on file 030713a.bin\n",
        "3"
       ]
      },
      {
       "output_type": "stream",
       "stream": "stdout",
       "text": [
        " 3\n",
        "[0, 1332, 2666]\n",
        "[1331, 2665, 2836]\n"
       ]
      }
     ],
     "prompt_number": 141
    },
    {
     "cell_type": "code",
     "collapsed": false,
     "input": [
      "print startT\n",
      "print endT\n",
      "print period\n",
      "print startT[1]-endT[0]\n",
      "print startT[2]-endT[1]"
     ],
     "language": "python",
     "metadata": {},
     "outputs": [
      {
       "output_type": "stream",
       "stream": "stdout",
       "text": [
        "[0.00050000000000000001, 399.88080000000002, 1199.6412]\n",
        "[399.88069999999999, 1399.2810999999999, 1849.8968]\n",
        "[0.30009999999999998, 199.9401, 199.9401]\n",
        "0.000100000000032\n",
        "-199.6399\n"
       ]
      }
     ],
     "prompt_number": 145
    },
    {
     "cell_type": "code",
     "collapsed": false,
     "input": [
      "def loadAllWhiteFrames(wildcard, whiteThreshold):\n",
      "    import os\n",
      "    import fnmatch\n",
      "    from numpy import append\n",
      "    \n",
      "    # init the ndarray to hold all white frames detected across all files. \n",
      "    allWhiteScans = np.arange(0)\n",
      "    accumulatedScans = 0\n",
      "\n",
      "    # init a ndarray to hold the average number of scans per frame, will have one item per file loaded\n",
      "    scansperframe = np.arange(0)\n",
      "    \n",
      "    for file in os.listdir(os.getcwd()):\n",
      "        if fnmatch.fnmatch(file, wildcard):\n",
      "            print 'Working on file', file\n",
      "            header = meaRecording.getRecordingHeader(file)\n",
      "            nscans = header['nscans']\n",
      "            scanRate = header['scanRate']\n",
      "            \n",
      "            # load PD, each item corresponds to 1/scanrate seconds\n",
      "            pd = loadPD(file)\n",
      "            \n",
      "            # Get the number of scans per frame\n",
      "            scansperframe = np.append(scansperframe, getScansPerFrame(pd))\n",
      "        \n",
      "            # detect the maximum value in pd_array\n",
      "            pd_max = np.max(pd)\n",
      "            \n",
      "            # define threshold that has to be crossed to define a white pd.\n",
      "            whiteThreshold = pd_max*whiteThreshold\n",
      "            \n",
      "            # detect crossings of threshold\n",
      "            # all crossings are detected, if stimulus is apdating every n frames, each white frame will be detected n times\n",
      "            whiteFrameScans = findThresholdCrossing(pd, whiteThreshold)    # this is ndarray\n",
      "            \n",
      "            # shift the scans to take into account that we are not loading the 1st file\n",
      "            whiteFrameScans += accumulatedScans\n",
      "            \n",
      "            # update accumulatedScans\n",
      "            accumulatedScans += nscans\n",
      "            \n",
      "    return whiteFrameScans, scansperframe, scanRate"
     ],
     "language": "python",
     "metadata": {},
     "outputs": [],
     "prompt_number": 89
    },
    {
     "cell_type": "code",
     "collapsed": false,
     "input": [
      "def findThresholdCrossing(array, threshold):\n",
      "    '''\n",
      "    Find the indexes and value of array for which threshold is crossed in the upwards direction\n",
      "    \n",
      "    Parameters\n",
      "    ----------\n",
      "    array: ndarray with ints or floats\n",
      "\n",
      "    threshold: an int or float value\n",
      "\n",
      "    Output:\n",
      "    -------\n",
      "    crossings: a list of 'index', 'value' pairs\n",
      "\n",
      "    '''\n",
      "    import numpy as np\n",
      "    shifted = np.concatenate([[np.min(array)],array[:-1]])<threshold\n",
      "    crossings = array>=threshold\n",
      "    crossings *= shifted\n",
      "    \n",
      "    return np.nonzero(crossings)[0]"
     ],
     "language": "python",
     "metadata": {},
     "outputs": [],
     "prompt_number": 73
    },
    {
     "cell_type": "code",
     "collapsed": false,
     "input": [
      "def loadPD(filename, maxTime = 1650):\n",
      "    import meaRecording\n",
      "    import numpy as np\n",
      "\n",
      "    # load the PD\n",
      "    header = meaRecording.getRecordingHeader(filename)\n",
      "    fileLength = header['nscans']/header['scanRate']\n",
      "    pd_array = meaRecording.getChannel(0, maxTime, filename)\n",
      "            \n",
      "    return pd_array"
     ],
     "language": "python",
     "metadata": {},
     "outputs": [],
     "prompt_number": 74
    },
    {
     "cell_type": "code",
     "collapsed": false,
     "input": [
      "pd = loadPD('030713a.bin', 10)"
     ],
     "language": "python",
     "metadata": {},
     "outputs": [],
     "prompt_number": 75
    },
    {
     "cell_type": "code",
     "collapsed": false,
     "input": [
      "#newAxis = [0, 550, 0, 10000.0]\n",
      "#plt.axis(newAxis)\n",
      "N=100\n",
      "a=np.arange(N)*.0001\n",
      "plot(a,pd[0: N], '.')"
     ],
     "language": "python",
     "metadata": {},
     "outputs": [
      {
       "output_type": "pyout",
       "prompt_number": 76,
       "text": [
        "[<matplotlib.lines.Line2D at 0x106ab9d50>]"
       ]
      },
      {
       "output_type": "display_data",
       "png": "[encoded data removed]"
      }
     ],
     "prompt_number": 76
    },
    {
     "cell_type": "code",
     "collapsed": false,
     "input": [
      "whiteThreshold = .8\n",
      "# detect the maximum value in pd_array\n",
      "pd_max = np.max(pd)\n",
      "\n",
      "# define threshold that has to be crossed to define a white pd.\n",
      "whiteThreshold = pd_max*whiteThreshold\n",
      "\n",
      "# detect crossings of threshold\n",
      "whiteFrameScans = findThresholdCrossing(pd, whiteThreshold)\n"
     ],
     "language": "python",
     "metadata": {},
     "outputs": [],
     "prompt_number": 77
    },
    {
     "cell_type": "markdown",
     "metadata": {},
     "source": [
      "At this point I have all the white frames detected in whtieFrameScans.\n",
      "Index array is in samples at sampleRate (most likely 10KHz)\n",
      "First I need a convertion between samples and frames\n",
      "For that it would be nice to have an estimate of the stimulating monitor framerate.  \n",
      "I'm going to define a function to extract the frame rate given a PD recording and I'm \n",
      "going to call it with a short 10s segment to get a 1st estimate of the frameRate"
     ]
    },
    {
     "cell_type": "code",
     "collapsed": false,
     "input": [
      "def getScansPerFrame(pd, estimatedFramePeriod=.01, scanrate=10000):\n",
      "    '''\n",
      "    compute the frameperiod from a PD recording.\n",
      "    Algorithm computes the FFT of the PD and checks the freq of the maxima. \n",
      "    If any of the first 100 freq is close to 1/estimatedFramePeriod then \n",
      "    returns that value\n",
      "\n",
      "    Parameters:\n",
      "    -----------\n",
      "    pd: ndarray with pd values, might be the output of loadPD('file.bin', 10)\n",
      "\n",
      "    estimatedFramePeriod: 1/framerate in the stimulating monitor\n",
      "\n",
      "    scanrate: comes from the recording's header\n",
      "              header = meaRecording.getRecordingHeader('030713a.bin')\n",
      "              header['scanRate']\n",
      "    \n",
      "    Output:\n",
      "    -------\n",
      "    frameperiod: returns the average frame period in seconds.\n",
      "    framesamples: average number of samples at scanrate per frame (framesamples = frameperiod*scanrate\n",
      "\n",
      "    '''\n",
      "    import scipy\n",
      "    import scipy.fftpack\n",
      "    import numpy as np\n",
      "    \n",
      "    # FFT the signal\n",
      "    pdFFT = rfft(pd)\n",
      "    pdFreqs = scipy.fftpack.rfftfreq(pdFFT.size, 1./scanrate)\n",
      "\n",
      "    for i in range(100):\n",
      "        fftmaxarg = pdFFT.argmax()\n",
      "        maxargfreq = pdFreqs[fftmaxarg]    \n",
      "        frameperiod = 1./maxargfreq\n",
      "        #print fftmaxarg, maxargfreq, frameperiod\n",
      "        \n",
      "        if abs(frameperiod-estimatedFramePeriod)<estimatedFramePeriod*.2:\n",
      "            framesamples = frameperiod*scanrate\n",
      "            return framesamples\n",
      "    \n",
      "        # current maxargfreq was not close to estimated one, remove the max and keep looping\n",
      "        pdFFT[fftmaxarg]=0\n",
      "\n",
      "    # if I got here it means that non of the first 100 maxima had a freq matching estimated one\n",
      "    sys.exit('frameperiod failure: None of the 100 most relevant frequencies matched the corresponding to estimatedFramePeriod')\n"
     ],
     "language": "python",
     "metadata": {},
     "outputs": [],
     "prompt_number": 78
    },
    {
     "cell_type": "code",
     "collapsed": false,
     "input": [
      "scansperframe = getScansPerFrame(pd)\n",
      "print scansperframe"
     ],
     "language": "python",
     "metadata": {},
     "outputs": [
      {
       "output_type": "stream",
       "stream": "stdout",
       "text": [
        "100.002\n"
       ]
      }
     ],
     "prompt_number": 79
    },
    {
     "cell_type": "markdown",
     "metadata": {},
     "source": [
      "From the scans that crossed threshold and the scansperframe, compute the distance between relevant consecutive white frames.\n",
      "By relevant I mean discard those consecutive white frames because we are not fliping stimuli at every frame and therefore every whiteframe is repeated is couple times. Also, return the scans corresponding to the 1st whiteFrames (will be needed to compute the time of stim changes)\n"
     ]
    },
    {
     "cell_type": "code",
     "collapsed": false,
     "input": [
      "whiteFrameScans[0:10]"
     ],
     "language": "python",
     "metadata": {},
     "outputs": [
      {
       "output_type": "pyout",
       "prompt_number": 80,
       "text": [
        "array([   5,  104,  204, 3006, 3106, 3206, 6008, 6108, 6208, 9010])"
       ]
      }
     ],
     "prompt_number": 80
    },
    {
     "cell_type": "code",
     "collapsed": false,
     "input": [
      "def keepOnlyFirstWhite(whiteFrameScans, scansPerFrame):\n",
      "    '''\n",
      "    Compute the distance (in scans) between a white frame (at position n) and the previous one; if the distance is comparable to scansPerFrame\n",
      "    remove whiteFrameScan at position n.\n",
      "    \n",
      "    Parameters:\n",
      "    -----------\n",
      "    whiteFrameScans: ndarray\n",
      "                     output of findThresholdCrossing(pd, whiteThreshold)\n",
      "    scansperframe:   output of frameperiod(pd)\n",
      "\n",
      "    Output:\n",
      "    -------\n",
      "    whiteFrameScans:  ndarray with the scans corresponding to white frames\n",
      "\n",
      "    Comments:\n",
      "    ---------\n",
      "    whiteFrameScans has the points in the photodiode recording at which threshold was cross.\n",
      "    whiteFrameScans is also a link to the time of such events since each point is spaced on average 1/scanRate\n",
      "    if framesN[n] != framesN[n-1] it means that a new stimuli started at time whiteFrameTimes[n] and now whiteFrame distances are every framesN[n]\n",
      "    '''\n",
      "    import numpy as np\n",
      "    # subtract from every element in whiteFrameScans the previous element. Subtract 0 from the 1st element\n",
      "    dist = whiteFrameScans[:]-np.concatenate([[0], whiteFrameScans[0:-1]])\n",
      "\n",
      "    whiteFrameScans = [whiteFrameScans[item] for item, distance in enumerate(dist) if distance > scansPerFrame*1.5 or item==0]\n",
      "    return whiteFrameScans"
     ],
     "language": "python",
     "metadata": {},
     "outputs": [],
     "prompt_number": 81
    },
    {
     "cell_type": "code",
     "collapsed": false,
     "input": [
      "whiteFrameScans = keepOnlyFirstWhite(whiteFrameScans, scansperframe)"
     ],
     "language": "python",
     "metadata": {},
     "outputs": [],
     "prompt_number": 82
    },
    {
     "cell_type": "code",
     "collapsed": false,
     "input": [
      "b = [whiteFrameScans[item] for item in range(len(whiteFrameScans)-1) if whiteFrameScans[item+1]+whiteFrameScans[item-1]-2*whiteFrameScans[item]>scansperframe/2 or item==0]"
     ],
     "language": "python",
     "metadata": {},
     "outputs": [],
     "prompt_number": 83
    },
    {
     "cell_type": "code",
     "collapsed": false,
     "input": [
      "print b"
     ],
     "language": "python",
     "metadata": {},
     "outputs": [
      {
       "output_type": "stream",
       "stream": "stdout",
       "text": [
        "[5]\n"
       ]
      }
     ],
     "prompt_number": 84
    },
    {
     "cell_type": "code",
     "collapsed": false,
     "input": [
      "def whiteFrameDistances(whiteFrameScans, scansperframe):\n",
      "    '''\n",
      "    compute the distance between two consecutive white frames.\n",
      "    Take into account that most of the time we are not fliping stimuli every frame and therefore the white frame in the photodiode\n",
      "    will be repeated. Discard this repetition and just report the distance between the 1st white frames (as if flipping every frame)\n",
      "    \n",
      "    Parameters:\n",
      "    -----------\n",
      "    whiteFrameScans: ndarray\n",
      "                     output of findThresholdCrossing(pd, whiteThreshold)\n",
      "    scansperframe:   output of frameperiod(pd)\n",
      "\n",
      "    Output:\n",
      "    -------\n",
      "    framesN:            list with distances between consecutive whiteframes\n",
      "    whiteFrameTimes:    list with the times of the white frames in framesN\n",
      "\n",
      "    Comments:\n",
      "    ---------\n",
      "    whiteFrameScans has the points in the photodiode recording at which threshold was cross.\n",
      "    whiteFrameScans is also a link to the time of such events since each point is spaced on average 1/scanRate\n",
      "    if framesN[n] != framesN[n-1] it means that a new stimuli started at time whiteFrameTimes[n] and now whiteFrame distances are every framesN[n]\n",
      "    '''\n",
      "    import numpy as np\n",
      "    \n",
      "    framesN=[]\n",
      "    changeScans=[]\n",
      "    whiteFrames = whiteFrameScans.copy()\n",
      "    whiteFrames = np.round(whiteFrameScans/scansperframe)\n",
      "    whiteFrames -= np.concatenate([[0], whiteFrames[0:-1]])\n",
      "    print whiteFrames[0:10]\n",
      "    last,accumulated = 1,0\n",
      "    for item, currentDistance in enumerate(whiteFrames):\n",
      "        accumulated += currentDistance\n",
      "        if currentDistance!=1:\n",
      "            framesN.append(accumulated)\n",
      "            changeScans.append(whiteFrameScans[item])\n",
      "            accumulated = 0\n",
      "        \n",
      "    return framesN, changeScans"
     ],
     "language": "python",
     "metadata": {},
     "outputs": [],
     "prompt_number": 85
    },
    {
     "cell_type": "markdown",
     "metadata": {},
     "source": [
      "At this point, I have the distance between the relevant white frames in framesN. Now I have to find those points for which the distance changes and report the time of the change."
     ]
    },
    {
     "cell_type": "code",
     "collapsed": false,
     "input": [
      "startT, endT, period = analysePD(\"*.bin\")"
     ],
     "language": "python",
     "metadata": {},
     "outputs": [
      {
       "output_type": "stream",
       "stream": "stdout",
       "text": [
        "Working on file 030713a.bin\n",
        "3"
       ]
      },
      {
       "ename": "IndexError",
       "evalue": "list index out of range",
       "output_type": "pyerr",
       "traceback": [
        "\u001b[0;31m---------------------------------------------------------------------------\u001b[0m\n\u001b[0;31mIndexError\u001b[0m                                Traceback (most recent call last)",
        "\u001b[0;32m<ipython-input-109-e05d00e1a33c>\u001b[0m in \u001b[0;36m<module>\u001b[0;34m()\u001b[0m\n\u001b[0;32m----> 1\u001b[0;31m \u001b[0mstartT\u001b[0m\u001b[0;34m,\u001b[0m \u001b[0mendT\u001b[0m\u001b[0;34m,\u001b[0m \u001b[0mperiod\u001b[0m \u001b[0;34m=\u001b[0m \u001b[0manalysePD\u001b[0m\u001b[0;34m(\u001b[0m\u001b[0;34m\"*.bin\"\u001b[0m\u001b[0;34m)\u001b[0m\u001b[0;34m\u001b[0m\u001b[0m\n\u001b[0m",
        "\u001b[0;32m<ipython-input-108-3008ae2f3c8b>\u001b[0m in \u001b[0;36manalysePD\u001b[0;34m(wildcard, whiteThreshold)\u001b[0m\n\u001b[1;32m     26\u001b[0m     \u001b[0mstartTimes\u001b[0m \u001b[0;34m=\u001b[0m \u001b[0;34m[\u001b[0m\u001b[0mwhiteFrameScans\u001b[0m\u001b[0;34m[\u001b[0m\u001b[0mindex\u001b[0m\u001b[0;34m]\u001b[0m\u001b[0;34m/\u001b[0m\u001b[0mfloat\u001b[0m\u001b[0;34m(\u001b[0m\u001b[0mscanRate\u001b[0m\u001b[0;34m)\u001b[0m \u001b[0;32mfor\u001b[0m \u001b[0mindex\u001b[0m \u001b[0;32min\u001b[0m \u001b[0mfirstWhiteIndex\u001b[0m\u001b[0;34m]\u001b[0m\u001b[0;34m\u001b[0m\u001b[0m\n\u001b[1;32m     27\u001b[0m     \u001b[0mperiod\u001b[0m \u001b[0;34m=\u001b[0m \u001b[0;34m[\u001b[0m\u001b[0;34m(\u001b[0m\u001b[0mwhiteFrameScans\u001b[0m\u001b[0;34m[\u001b[0m\u001b[0mindex\u001b[0m\u001b[0;34m+\u001b[0m\u001b[0;36m1\u001b[0m\u001b[0;34m]\u001b[0m \u001b[0;34m-\u001b[0m \u001b[0mwhiteFrameScans\u001b[0m\u001b[0;34m[\u001b[0m\u001b[0mindex\u001b[0m\u001b[0;34m]\u001b[0m\u001b[0;34m)\u001b[0m\u001b[0;34m/\u001b[0m\u001b[0mfloat\u001b[0m\u001b[0;34m(\u001b[0m\u001b[0mscanRate\u001b[0m\u001b[0;34m)\u001b[0m \u001b[0;32mfor\u001b[0m \u001b[0mindex\u001b[0m \u001b[0;32min\u001b[0m \u001b[0mfirstWhiteIndex\u001b[0m\u001b[0;34m]\u001b[0m\u001b[0;34m\u001b[0m\u001b[0m\n\u001b[0;32m---> 28\u001b[0;31m     \u001b[0mendTimes\u001b[0m \u001b[0;34m=\u001b[0m \u001b[0;34m[\u001b[0m\u001b[0mwhiteFrameScans\u001b[0m\u001b[0;34m[\u001b[0m\u001b[0mindex\u001b[0m\u001b[0;34m]\u001b[0m\u001b[0;34m/\u001b[0m\u001b[0mfloat\u001b[0m\u001b[0;34m(\u001b[0m\u001b[0mscanRate\u001b[0m\u001b[0;34m)\u001b[0m\u001b[0;34m+\u001b[0m\u001b[0mperiod\u001b[0m\u001b[0;34m[\u001b[0m\u001b[0mindex\u001b[0m\u001b[0;34m]\u001b[0m \u001b[0;32mfor\u001b[0m \u001b[0mindex\u001b[0m \u001b[0;32min\u001b[0m \u001b[0mlastWhiteIndex\u001b[0m\u001b[0;34m]\u001b[0m\u001b[0;34m\u001b[0m\u001b[0m\n\u001b[0m\u001b[1;32m     29\u001b[0m \u001b[0;34m\u001b[0m\u001b[0m\n\u001b[1;32m     30\u001b[0m     \u001b[0;31m#                st whites and another with their corresponding periods\u001b[0m\u001b[0;34m\u001b[0m\u001b[0;34m\u001b[0m\u001b[0m\n",
        "\u001b[0;31mIndexError\u001b[0m: list index out of range"
       ]
      },
      {
       "output_type": "stream",
       "stream": "stdout",
       "text": [
        " 3\n"
       ]
      }
     ],
     "prompt_number": 109
    },
    {
     "cell_type": "code",
     "collapsed": false,
     "input": [
      "print startT\n",
      "period"
     ],
     "language": "python",
     "metadata": {},
     "outputs": [
      {
       "output_type": "stream",
       "stream": "stdout",
       "text": [
        "[0.00050000000000000001, 399.88080000000002, 1199.6412]\n"
       ]
      },
      {
       "output_type": "pyout",
       "prompt_number": 99,
       "text": [
        "[0.30009999999999998, 199.9401, 199.9401]"
       ]
      }
     ],
     "prompt_number": 99
    },
    {
     "cell_type": "code",
     "collapsed": false,
     "input": [
      "a = [item/2 for item in startT]"
     ],
     "language": "python",
     "metadata": {},
     "outputs": [],
     "prompt_number": 95
    },
    {
     "cell_type": "code",
     "collapsed": false,
     "input": [
      "a"
     ],
     "language": "python",
     "metadata": {},
     "outputs": [
      {
       "output_type": "pyout",
       "prompt_number": 96,
       "text": [
        "[2, 1999404, 5998206]"
       ]
      }
     ],
     "prompt_number": 96
    },
    {
     "cell_type": "code",
     "collapsed": false,
     "input": [
      "type(a)"
     ],
     "language": "python",
     "metadata": {},
     "outputs": [
      {
       "output_type": "pyout",
       "prompt_number": 100,
       "text": [
        "list"
       ]
      }
     ],
     "prompt_number": 100
    },
    {
     "cell_type": "code",
     "collapsed": false,
     "input": [
      "a.append(3)"
     ],
     "language": "python",
     "metadata": {},
     "outputs": [],
     "prompt_number": 101
    },
    {
     "cell_type": "code",
     "collapsed": false,
     "input": [
      "a"
     ],
     "language": "python",
     "metadata": {},
     "outputs": [
      {
       "output_type": "pyout",
       "prompt_number": 102,
       "text": [
        "[2, 1999404, 5998206, 3]"
       ]
      }
     ],
     "prompt_number": 102
    },
    {
     "cell_type": "code",
     "collapsed": false,
     "input": [
      "len(a)"
     ],
     "language": "python",
     "metadata": {},
     "outputs": [
      {
       "output_type": "pyout",
       "prompt_number": 103,
       "text": [
        "4"
       ]
      }
     ],
     "prompt_number": 103
    },
    {
     "cell_type": "code",
     "collapsed": false,
     "input": [
      "a[-1]"
     ],
     "language": "python",
     "metadata": {},
     "outputs": [
      {
       "output_type": "pyout",
       "prompt_number": 105,
       "text": [
        "3"
       ]
      }
     ],
     "prompt_number": 105
    },
    {
     "cell_type": "code",
     "collapsed": false,
     "input": [],
     "language": "python",
     "metadata": {},
     "outputs": []
    }
   ],
   "metadata": {}
  }
 ]
}
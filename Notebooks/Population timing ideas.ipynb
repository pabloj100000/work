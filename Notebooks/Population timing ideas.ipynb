{
 "metadata": {
  "name": "Population timing ideas"
 },
 "nbformat": 3,
 "nbformat_minor": 0,
 "worksheets": [
  {
   "cells": [
    {
     "cell_type": "heading",
     "level": 1,
     "metadata": {},
     "source": [
      "Intro"
     ]
    },
    {
     "cell_type": "raw",
     "metadata": {},
     "source": [
      "From my gating experiments, I see not only that the firing rate of many cells is modulated by eye movements but also the amount of information contained in a short time window. Information is gated in FR, latency and latency + FR.\n",
      "I want to follow up on the latency information. There are few aspects of it that are not quite clear to me yet. \n",
      "\n",
      "What does timing mean? In Gollisch paper, timing is latency and is measured from the flashed stimulus. In the abscence of such flash can we still measure latency? With just one cell and no information about the stimulus we can only measure spike times, but we have no reference to say anything about timing of first spike. With just one cell, the only timing information available is ISI.\n",
      "\n",
      "My gating results suggest that the population of cells could act as a timing reference. When looking at the population of cells, they are all mostly silenced (acting with a high threshold) and suddenly they start firing when the threshold is lowered. There will be cells that fired first and cells that fire latter on but if we get some global timing signal by integrating over many cells, the higher brain can deconvole or compare who fired first and who fired later on. All this is possible but seems to me somewhat complicated, first integrate the signal and then used that result to compare with the timing of individual cells? Why not just compare the timing between pairs of cells?"
     ]
    },
    {
     "cell_type": "heading",
     "level": 1,
     "metadata": {},
     "source": [
      "Cell pair timing"
     ]
    },
    {
     "cell_type": "raw",
     "metadata": {},
     "source": [
      "There are at least two aspects of timing that I want to keep in mind.\n",
      "1. If relative timing between cell pairs is relevant, choosing the right pair is going to be critical. I think the best bets are cells of different types with overlaping receptive fields or cells of the same type with nearby recptive fields.\n",
      "\n",
      "2. One of the major problems of relative timing is that the brain needs both cells to fire at somewhat the stame time. If firing rates are too low, then it is difficult to measure relative timing. My gating results might be perfect for this since most cells are synchronously modulated."
     ]
    },
    {
     "cell_type": "heading",
     "level": 3,
     "metadata": {},
     "source": [
      "Modeling"
     ]
    },
    {
     "cell_type": "raw",
     "metadata": {},
     "source": [
      "I want to model bipolar cells and assign the weights of those bipolar cells to different ganglion cells.\n",
      "In this way, I can have various degrees of:\n",
      "    1. stimulus independence (feed from bipolar cells with similar/different RFs)\n",
      "    2. noise independence (feed from same/different bipolars)\n",
      "    \n",
      "    Note that 1 and 2 above are independent of each other. I can have bipolar cells with the same RFs and independent noise (as two cells with same temporal kernel and different spatial RF under uniform flicker or we can think that they are sampling from the same photoreceptor but there is a major source of noise in the bipolar cell itself)"
     ]
    },
    {
     "cell_type": "raw",
     "metadata": {},
     "source": [
      "Each cell (bipolar and ganglion) will have its own output noise such that ganglion cells will receive noisy input (noisy will be shared if feeding from the same bipolar cell) but each one will add its own noise after integration."
     ]
    },
    {
     "cell_type": "raw",
     "metadata": {},
     "source": [
      "By adding peripheral threshold shifts, the model synchronizes cells and exposes stimulus correlations as well as noise correlations"
     ]
    }
   ],
   "metadata": {}
  }
 ]
}